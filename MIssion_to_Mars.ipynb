{
 "cells": [
  {
   "cell_type": "markdown",
   "id": "0a201f1c",
   "metadata": {},
   "source": [
    "## 10.3.3 Scrape Mars Data: The News "
   ]
  },
  {
   "cell_type": "code",
   "execution_count": 13,
   "id": "87f4283a",
   "metadata": {},
   "outputs": [],
   "source": [
    "# Import Splinter and BeautifulSoup\n",
    "from splinter import Browser\n",
    "from bs4 import BeautifulSoup as soup\n",
    "from webdriver_manager.chrome import ChromeDriverManager\n",
    "\n",
    "import pandas as pd"
   ]
  },
  {
   "cell_type": "code",
   "execution_count": 2,
   "id": "1c64821e",
   "metadata": {},
   "outputs": [
    {
     "name": "stderr",
     "output_type": "stream",
     "text": [
      "[WDM] - \n",
      "\n",
      "[WDM] - ====== WebDriver manager ======\n",
      "[WDM] - Current google-chrome version is 95.0.4638\n",
      "[WDM] - Get LATEST driver version for 95.0.4638\n",
      "[WDM] - There is no [win32] chromedriver for browser 95.0.4638 in cache\n",
      "[WDM] - Get LATEST driver version for 95.0.4638\n",
      "[WDM] - Trying to download new driver from https://chromedriver.storage.googleapis.com/95.0.4638.54/chromedriver_win32.zip\n",
      "[WDM] - Driver has been saved in cache [C:\\Users\\estro\\.wdm\\drivers\\chromedriver\\win32\\95.0.4638.54]\n"
     ]
    }
   ],
   "source": [
    "executable_path = {'executable_path': ChromeDriverManager().install()}\n",
    "browser = Browser('chrome', **executable_path, headless=False)"
   ]
  },
  {
   "cell_type": "code",
   "execution_count": 3,
   "id": "5f6f9596",
   "metadata": {},
   "outputs": [
    {
     "data": {
      "text/plain": [
       "True"
      ]
     },
     "execution_count": 3,
     "metadata": {},
     "output_type": "execute_result"
    }
   ],
   "source": [
    "# Visit the mars nasa news site\n",
    "url = 'https://redplanetscience.com'\n",
    "browser.visit(url)\n",
    "# Optional delay for loading the page\n",
    "browser.is_element_present_by_css('div.list_text', wait_time=1)"
   ]
  },
  {
   "cell_type": "code",
   "execution_count": 4,
   "id": "f4964877",
   "metadata": {},
   "outputs": [],
   "source": [
    "html = browser.html\n",
    "news_soup = soup(html, 'html.parser')\n",
    "slide_elem = news_soup.select_one('div.list_text')"
   ]
  },
  {
   "cell_type": "code",
   "execution_count": 5,
   "id": "7629ae66",
   "metadata": {},
   "outputs": [
    {
     "data": {
      "text/plain": [
       "<div class=\"content_title\">The Launch Is Approaching for NASA's Next Mars Rover, Perseverance</div>"
      ]
     },
     "execution_count": 5,
     "metadata": {},
     "output_type": "execute_result"
    }
   ],
   "source": [
    "# Assign the title and summary text to variables we'll reference later.\n",
    "slide_elem.find('div', class_='content_title')"
   ]
  },
  {
   "cell_type": "code",
   "execution_count": 6,
   "id": "6545a66f",
   "metadata": {},
   "outputs": [
    {
     "data": {
      "text/plain": [
       "\"The Launch Is Approaching for NASA's Next Mars Rover, Perseverance\""
      ]
     },
     "execution_count": 6,
     "metadata": {},
     "output_type": "execute_result"
    }
   ],
   "source": [
    "# Use the parent element to find the first `a` tag and save it as `news_title`\n",
    "news_title = slide_elem.find('div', class_='content_title').get_text()\n",
    "news_title"
   ]
  },
  {
   "cell_type": "code",
   "execution_count": 7,
   "id": "395ad1c9",
   "metadata": {},
   "outputs": [
    {
     "data": {
      "text/plain": [
       "\"The Red Planet's surface has been visited by eight NASA spacecraft. The ninth will be the first that includes a roundtrip ticket in its flight plan. \""
      ]
     },
     "execution_count": 7,
     "metadata": {},
     "output_type": "execute_result"
    }
   ],
   "source": [
    "# Use the parent element to find the paragraph text\n",
    "news_p = slide_elem.find('div', class_='article_teaser_body').get_text()\n",
    "news_p"
   ]
  },
  {
   "cell_type": "markdown",
   "id": "3c1b038a",
   "metadata": {},
   "source": [
    "## 10.3.4 Scrape Mars Data: Featured Image"
   ]
  },
  {
   "cell_type": "markdown",
   "id": "6bf69f61",
   "metadata": {},
   "source": [
    "### Featured Images"
   ]
  },
  {
   "cell_type": "code",
   "execution_count": 8,
   "id": "5e3bde00",
   "metadata": {},
   "outputs": [],
   "source": [
    "# Visit URL\n",
    "url = 'https://spaceimages-mars.com'\n",
    "browser.visit(url)"
   ]
  },
  {
   "cell_type": "code",
   "execution_count": 9,
   "id": "3846d0d6",
   "metadata": {},
   "outputs": [],
   "source": [
    "# Find and click the full image button\n",
    "full_image_elem = browser.find_by_tag('button')[1]\n",
    "full_image_elem.click()"
   ]
  },
  {
   "cell_type": "code",
   "execution_count": 10,
   "id": "be7c85b5",
   "metadata": {},
   "outputs": [],
   "source": [
    "# Parse the resulting html with soup\n",
    "html = browser.html\n",
    "img_soup = soup(html, 'html.parser')"
   ]
  },
  {
   "cell_type": "code",
   "execution_count": 11,
   "id": "dfcbc597",
   "metadata": {},
   "outputs": [
    {
     "data": {
      "text/plain": [
       "'image/featured/mars1.jpg'"
      ]
     },
     "execution_count": 11,
     "metadata": {},
     "output_type": "execute_result"
    }
   ],
   "source": [
    "# Find the relative image url\n",
    "img_url_rel = img_soup.find('img', class_='fancybox-image').get('src')\n",
    "img_url_rel"
   ]
  },
  {
   "cell_type": "code",
   "execution_count": 12,
   "id": "a56ae3b8",
   "metadata": {},
   "outputs": [
    {
     "data": {
      "text/plain": [
       "'https://spaceimages-mars.com/image/featured/mars1.jpg'"
      ]
     },
     "execution_count": 12,
     "metadata": {},
     "output_type": "execute_result"
    }
   ],
   "source": [
    "# Use the base URL to create an absolute URL\n",
    "img_url = f'https://spaceimages-mars.com/{img_url_rel}'\n",
    "img_url"
   ]
  },
  {
   "cell_type": "markdown",
   "id": "8067aa87",
   "metadata": {},
   "source": [
    "## 10.3.5 Scrape Mars Data: Mars Facts"
   ]
  },
  {
   "cell_type": "code",
   "execution_count": 14,
   "id": "a04e1f41",
   "metadata": {},
   "outputs": [
    {
     "data": {
      "text/html": [
       "<div>\n",
       "<style scoped>\n",
       "    .dataframe tbody tr th:only-of-type {\n",
       "        vertical-align: middle;\n",
       "    }\n",
       "\n",
       "    .dataframe tbody tr th {\n",
       "        vertical-align: top;\n",
       "    }\n",
       "\n",
       "    .dataframe thead th {\n",
       "        text-align: right;\n",
       "    }\n",
       "</style>\n",
       "<table border=\"1\" class=\"dataframe\">\n",
       "  <thead>\n",
       "    <tr style=\"text-align: right;\">\n",
       "      <th></th>\n",
       "      <th>Mars</th>\n",
       "      <th>Earth</th>\n",
       "    </tr>\n",
       "    <tr>\n",
       "      <th>description</th>\n",
       "      <th></th>\n",
       "      <th></th>\n",
       "    </tr>\n",
       "  </thead>\n",
       "  <tbody>\n",
       "    <tr>\n",
       "      <th>Mars - Earth Comparison</th>\n",
       "      <td>Mars</td>\n",
       "      <td>Earth</td>\n",
       "    </tr>\n",
       "    <tr>\n",
       "      <th>Diameter:</th>\n",
       "      <td>6,779 km</td>\n",
       "      <td>12,742 km</td>\n",
       "    </tr>\n",
       "    <tr>\n",
       "      <th>Mass:</th>\n",
       "      <td>6.39 × 10^23 kg</td>\n",
       "      <td>5.97 × 10^24 kg</td>\n",
       "    </tr>\n",
       "    <tr>\n",
       "      <th>Moons:</th>\n",
       "      <td>2</td>\n",
       "      <td>1</td>\n",
       "    </tr>\n",
       "    <tr>\n",
       "      <th>Distance from Sun:</th>\n",
       "      <td>227,943,824 km</td>\n",
       "      <td>149,598,262 km</td>\n",
       "    </tr>\n",
       "    <tr>\n",
       "      <th>Length of Year:</th>\n",
       "      <td>687 Earth days</td>\n",
       "      <td>365.24 days</td>\n",
       "    </tr>\n",
       "    <tr>\n",
       "      <th>Temperature:</th>\n",
       "      <td>-87 to -5 °C</td>\n",
       "      <td>-88 to 58°C</td>\n",
       "    </tr>\n",
       "  </tbody>\n",
       "</table>\n",
       "</div>"
      ],
      "text/plain": [
       "                                    Mars            Earth\n",
       "description                                              \n",
       "Mars - Earth Comparison             Mars            Earth\n",
       "Diameter:                       6,779 km        12,742 km\n",
       "Mass:                    6.39 × 10^23 kg  5.97 × 10^24 kg\n",
       "Moons:                                 2                1\n",
       "Distance from Sun:        227,943,824 km   149,598,262 km\n",
       "Length of Year:           687 Earth days      365.24 days\n",
       "Temperature:                -87 to -5 °C      -88 to 58°C"
      ]
     },
     "execution_count": 14,
     "metadata": {},
     "output_type": "execute_result"
    }
   ],
   "source": [
    "df = pd.read_html('https://galaxyfacts-mars.com')[0]\n",
    "df.columns=['description', 'Mars', 'Earth']\n",
    "df.set_index('description', inplace=True)\n",
    "df"
   ]
  },
  {
   "cell_type": "code",
   "execution_count": 15,
   "id": "d06a6e9f",
   "metadata": {},
   "outputs": [
    {
     "data": {
      "text/plain": [
       "'<table border=\"1\" class=\"dataframe\">\\n  <thead>\\n    <tr style=\"text-align: right;\">\\n      <th></th>\\n      <th>Mars</th>\\n      <th>Earth</th>\\n    </tr>\\n    <tr>\\n      <th>description</th>\\n      <th></th>\\n      <th></th>\\n    </tr>\\n  </thead>\\n  <tbody>\\n    <tr>\\n      <th>Mars - Earth Comparison</th>\\n      <td>Mars</td>\\n      <td>Earth</td>\\n    </tr>\\n    <tr>\\n      <th>Diameter:</th>\\n      <td>6,779 km</td>\\n      <td>12,742 km</td>\\n    </tr>\\n    <tr>\\n      <th>Mass:</th>\\n      <td>6.39 × 10^23 kg</td>\\n      <td>5.97 × 10^24 kg</td>\\n    </tr>\\n    <tr>\\n      <th>Moons:</th>\\n      <td>2</td>\\n      <td>1</td>\\n    </tr>\\n    <tr>\\n      <th>Distance from Sun:</th>\\n      <td>227,943,824 km</td>\\n      <td>149,598,262 km</td>\\n    </tr>\\n    <tr>\\n      <th>Length of Year:</th>\\n      <td>687 Earth days</td>\\n      <td>365.24 days</td>\\n    </tr>\\n    <tr>\\n      <th>Temperature:</th>\\n      <td>-87 to -5 °C</td>\\n      <td>-88 to 58°C</td>\\n    </tr>\\n  </tbody>\\n</table>'"
      ]
     },
     "execution_count": 15,
     "metadata": {},
     "output_type": "execute_result"
    }
   ],
   "source": [
    "df.to_html()"
   ]
  },
  {
   "cell_type": "code",
   "execution_count": 16,
   "id": "8161a946",
   "metadata": {},
   "outputs": [],
   "source": [
    "browser.quit()"
   ]
  },
  {
   "cell_type": "markdown",
   "id": "600a8cb1",
   "metadata": {},
   "source": [
    "## 10.3.6 Export to Python "
   ]
  },
  {
   "cell_type": "code",
   "execution_count": 17,
   "id": "e4f24918",
   "metadata": {},
   "outputs": [],
   "source": [
    "# # Saved file as .py, cleaned up the code\n",
    "\n",
    "# # Import Splinter, BeautifulSoup, and Pandas\n",
    "# from splinter import Browser\n",
    "# from bs4 import BeautifulSoup as soup\n",
    "# import pandas as pd\n",
    "# from webdriver_manager.chrome import ChromeDriverManager\n",
    "\n",
    "# # Set up Splinter\n",
    "# executable_path = {'executable_path': ChromeDriverManager().install()}\n",
    "# browser = Browser('chrome', **executable_path, headless=False)\n",
    "\n",
    "# # Visit the Mars news site\n",
    "# url = 'https://redplanetscience.com/'\n",
    "# browser.visit(url)\n",
    "\n",
    "# # Optional delay for loading the page\n",
    "# browser.is_element_present_by_css('div.list_text', wait_time=1)\n",
    "\n",
    "# # Convert the browser html to a soup object and then quit the browser\n",
    "# html = browser.html\n",
    "# news_soup = soup(html, 'html.parser')\n",
    "\n",
    "# slide_elem = news_soup.select_one('div.list_text')\n",
    "\n",
    "# slide_elem.find('div', class_='content_title')\n",
    "\n",
    "# # Use the parent element to find the first a tag and save it as `news_title`\n",
    "# news_title = slide_elem.find('div', class_='content_title').get_text()\n",
    "# news_title\n",
    "\n",
    "# # Use the parent element to find the paragraph text\n",
    "# news_p = slide_elem.find('div', class_='article_teaser_body').get_text()\n",
    "# news_p\n",
    "\n",
    "# # ## JPL Space Images Featured Image\n",
    "\n",
    "# # Visit URL\n",
    "# url = 'https://spaceimages-mars.com'\n",
    "# browser.visit(url)\n",
    "\n",
    "# # Find and click the full image button\n",
    "# full_image_elem = browser.find_by_tag('button')[1]\n",
    "# full_image_elem.click()\n",
    "\n",
    "# # Parse the resulting html with soup\n",
    "# html = browser.html\n",
    "# img_soup = soup(html, 'html.parser')\n",
    "\n",
    "# # find the relative image url\n",
    "# img_url_rel = img_soup.find('img', class_='fancybox-image').get('src')\n",
    "# img_url_rel\n",
    "\n",
    "# # Use the base url to create an absolute url\n",
    "# img_url = f'https://spaceimages-mars.com/{img_url_rel}'\n",
    "# img_url\n",
    "\n",
    "# # ## Mars Facts\n",
    "\n",
    "# df = pd.read_html('https://galaxyfacts-mars.com')[0]\n",
    "# df.head()\n",
    "\n",
    "# df.columns=['Description', 'Mars', 'Earth']\n",
    "# df.set_index('Description', inplace=True)\n",
    "# df\n",
    "\n",
    "# df.to_html()\n",
    "\n",
    "# browser.quit()"
   ]
  },
  {
   "cell_type": "markdown",
   "id": "34e087da",
   "metadata": {},
   "source": [
    "## 10.4.1 Store the Data "
   ]
  },
  {
   "cell_type": "code",
   "execution_count": 18,
   "id": "8b6470d2",
   "metadata": {},
   "outputs": [],
   "source": [
    "# open terminal, type \"mongod\", open other terminal, type \"mongo\", then type \"use practicedb\""
   ]
  },
  {
   "cell_type": "code",
   "execution_count": 19,
   "id": "14f66163",
   "metadata": {},
   "outputs": [],
   "source": [
    "# CREATE A NEW DATABASE NAMES \"mars_app\""
   ]
  },
  {
   "cell_type": "markdown",
   "id": "f5f39dde",
   "metadata": {},
   "source": [
    "## (End: Begin 10.5.1 in file \"app.py\")"
   ]
  },
  {
   "cell_type": "code",
   "execution_count": null,
   "id": "b2378311",
   "metadata": {},
   "outputs": [],
   "source": []
  }
 ],
 "metadata": {
  "kernelspec": {
   "display_name": "PythonData",
   "language": "python",
   "name": "pythondata"
  },
  "language_info": {
   "codemirror_mode": {
    "name": "ipython",
    "version": 3
   },
   "file_extension": ".py",
   "mimetype": "text/x-python",
   "name": "python",
   "nbconvert_exporter": "python",
   "pygments_lexer": "ipython3",
   "version": "3.7.11"
  }
 },
 "nbformat": 4,
 "nbformat_minor": 5
}
